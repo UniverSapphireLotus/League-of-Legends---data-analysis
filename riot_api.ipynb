{
  "cells": [
    {
      "cell_type": "code",
      "execution_count": null,
      "metadata": {
        "id": "TUqy50TBf0C8"
      },
      "outputs": [],
      "source": [
        "import requests\n",
        "import pandas as pd\n",
        "import time"
      ]
    },
    {
      "cell_type": "code",
      "execution_count": null,
      "metadata": {
        "id": "G2xrhrftk3Gu"
      },
      "outputs": [],
      "source": [
        "api = 'RGAPI-86856f45-0ac8-4886-b6bd-2d749068b399'\n",
        "division = ['I' ,'II' , 'III' ,'IV']\n",
        "leagues = ['IRON', 'BRONZE', 'SILVER', 'GOLD', 'PLATINUM', 'DIAMOND']\n",
        "super_leauges = ['masterleagues', 'grandmasterleagues', 'challengerleagues']\n",
        "path = '/content/drive/MyDrive/LoL api data/'"
      ]
    },
    {
      "cell_type": "code",
      "execution_count": null,
      "metadata": {
        "id": "1dpEXgfeK0m7"
      },
      "outputs": [],
      "source": [
        "import os\n",
        "directory_path = path\n",
        "directory_files = os.listdir(directory_path)\n",
        "directory_files\n",
        "\n",
        "for i in leagues + super_leauges:\n",
        "  #print(path + i)\n",
        "  if not os.path.exists(path + i):\n",
        "    print('><> creating file ><>')\n",
        "    os.makedirs(path + i)"
      ]
    },
    {
      "cell_type": "code",
      "execution_count": null,
      "metadata": {
        "colab": {
          "base_uri": "https://localhost:8080/"
        },
        "id": "6I57eK5Fposd",
        "outputId": "e21d8ee5-77e3-417b-afbe-27d13cccedbb"
      },
      "outputs": [
        {
          "output_type": "execute_result",
          "data": {
            "text/plain": [
              "108000"
            ]
          },
          "metadata": {},
          "execution_count": 5
        }
      ],
      "source": [
        "4000 * len(leagues*4 + super_leauges)"
      ]
    },
    {
      "cell_type": "code",
      "execution_count": null,
      "metadata": {
        "id": "feS-UXn_f-ug"
      },
      "outputs": [],
      "source": [
        "def summoners(elo, division):\n",
        "  url='https://la1.api.riotgames.com/lol/league/v4/entries/RANKED_SOLO_5x5/{}/{}?page=1&api_key={}'.format(elo, division, api)\n",
        "  db_1 = pd.read_json(requests.get(url).text)\n",
        "\n",
        "  time.sleep(4)\n",
        "\n",
        "  url='https://la1.api.riotgames.com/lol/league/v4/entries/RANKED_SOLO_5x5/{}/{}?page=2&api_key={}'.format(elo, division, api)\n",
        "  db_2 = pd.read_json(requests.get(url).text)\n",
        "  \n",
        "  return pd.concat([db_1, db_2], ignore_index=True)"
      ]
    },
    {
      "cell_type": "code",
      "execution_count": null,
      "metadata": {
        "id": "1MaqBpUouSu2"
      },
      "outputs": [],
      "source": [
        "def get_summoner(summonerId):\n",
        "  l = []\n",
        "  error = []\n",
        "\n",
        "  for i in summonerId:\n",
        "    req= requests.get('https://la1.api.riotgames.com/lol/summoner/v4/summoners/{}?api_key={}'.format(i, api))\n",
        "    #print(req.status_code)\n",
        "\n",
        "    if req.status_code == 200:\n",
        "      l.append(pd.DataFrame(pd.read_json(req.text , typ='series')).T)\n",
        "    else:\n",
        "      time.sleep(4)\n",
        "      error.append(i)\n",
        "      #print(req.status_code)\n",
        "  if len(l) != 0:\n",
        "    return pd.concat(l, ignore_index=True), error\n",
        "  else:\n",
        "    return l, error"
      ]
    },
    {
      "cell_type": "code",
      "execution_count": null,
      "metadata": {
        "id": "e6S2KkgBP8vh"
      },
      "outputs": [],
      "source": [
        "def get_summoner_high_elo(division):\n",
        "  url='https://la1.api.riotgames.com/lol/league/v4/{}/by-queue/RANKED_SOLO_5x5?api_key={}'.format(division, api)\n",
        "  db = pd.DataFrame(pd.read_json(requests.get(url).text , typ='series')).T\n",
        "  db_ =pd.DataFrame(db['entries'][0])\n",
        "  db_['tier'] = db['tier'][0]\n",
        "  db_['leagueId'] = db['leagueId'][0]\n",
        "  db_['queue'] = db['queue'][0]\n",
        "  db_['name'] = db['name'][0]\n",
        "  print(url)\n",
        "  return db_"
      ]
    },
    {
      "cell_type": "code",
      "execution_count": null,
      "metadata": {
        "id": "HZaUHrLkzNi5"
      },
      "outputs": [],
      "source": [
        "def get_matchId(puuid, count):\n",
        "  l = []\n",
        "  error = []\n",
        "  #print(url)\n",
        "  for i in puuid:\n",
        "    url='https://americas.api.riotgames.com/lol/match/v5/matches/by-puuid/{}/ids?type=ranked&start=0&count={}&api_key={}'.format(i, count,api )\n",
        "    #print(url)\n",
        "    req= requests.get(url)\n",
        "    #print(req.status_code)\n",
        "    \n",
        "    if req.status_code == 200:\n",
        "      #l.append(pd.DataFrame(pd.read_json(req.text , typ='series')).T)\n",
        "      l.append(pd.read_json(req.text))\n",
        "    else:\n",
        "      time.sleep(40)\n",
        "      error.append(i)\n",
        "      #print(req.status_code)\n",
        "  if len(l) != 0:\n",
        "    return pd.concat(l, ignore_index=True), error\n",
        "  else:\n",
        "    return l, error\n"
      ]
    },
    {
      "cell_type": "code",
      "execution_count": null,
      "metadata": {
        "id": "e-HYC3CM_YDJ"
      },
      "outputs": [],
      "source": [
        "def get_data_match(requ ,matchId):\n",
        "  #url = 'https://americas.api.riotgames.com/lol/match/v5/matches/{}?api_key={}'.format(matchId, api)\n",
        "  #print(url)\n",
        "  try:\n",
        "    df_a = pd.read_json(requ.text)\n",
        "\n",
        "    bf_base = df_a['info']['teams']\n",
        "    #info\n",
        "    df_info = []\n",
        "    #bans\n",
        "    df_bans = []\n",
        "    #objt\n",
        "    df_objt = []\n",
        "\n",
        "    for i in [0,1]:\n",
        "      df_info.append(pd.DataFrame([{'win' : pd.DataFrame(bf_base)['win'][i], 'teamId' :  pd.DataFrame(bf_base)['teamId'][i]}]))\n",
        "\n",
        "      _df_bans = pd.DataFrame(pd.DataFrame(bf_base)['bans'][i])\n",
        "      _df_bans['teamId'] = pd.DataFrame(bf_base)['teamId'][i]\n",
        "      df_bans.append(_df_bans)\n",
        "\n",
        "      _df_objt = pd.DataFrame(pd.DataFrame(bf_base)['objectives'][i])\n",
        "      d_f = {'baron' : 'baron_first', 'champion' : 'champion_first', 'dragon' : 'dragon_first', 'inhibitor' : 'inhibitor_first', 'riftHerald' : 'riftHerald_first', 'tower' : 'tower_first'}\n",
        "      d_k = {'baron' : 'baron_kills', 'champion' : 'champion_kills', 'dragon' : 'dragon_kills', 'inhibitor' : 'inhibitor_kills', 'riftHerald' : 'riftHerald_kills', 'tower' : 'tower_kills'}\n",
        "      f = pd.DataFrame(_df_objt).loc[['first']].rename(columns = d_f).reset_index()\n",
        "      k = pd.DataFrame(_df_objt).loc[['kills']].rename(columns = d_k).reset_index()\n",
        "      _df_objt_f  = pd.concat([f, k], axis = 1).drop(['index'], axis= 1)\n",
        "      _df_objt_f['teamId'] =  pd.DataFrame(bf_base)['teamId'][i]\n",
        "      df_objt.append(_df_objt_f)\n",
        "\n",
        "    df_data = df_a.T.drop(['participants', 'teams', 'tournamentCode', 'matchId', ], axis = 1).loc[['info']].reset_index()\n",
        "    df_data['matchId'] = matchId\n",
        "    df_data = df_data.drop(['index'], axis= 1)\n",
        "\n",
        "    df_info = pd.concat(df_info, ignore_index=True)\n",
        "    df_info['matchId'] = matchId\n",
        "\n",
        "    df_bans = pd.concat(df_bans, ignore_index=True)\n",
        "    df_bans['matchId'] = matchId\n",
        "\n",
        "    df_objt = pd.concat(df_objt, ignore_index=True)\n",
        "    df_objt['matchId'] = matchId\n",
        "\n",
        "    df_game= pd.DataFrame(df_a['info']['participants'])\n",
        "    df_game['matchId'] = matchId\n",
        "\n",
        "    return df_data, df_info, df_bans, df_objt, df_game\n",
        "  except:\n",
        "    print('error here ....', matchId)"
      ]
    },
    {
      "cell_type": "code",
      "execution_count": null,
      "metadata": {
        "id": "2JRgyKuFJOSM"
      },
      "outputs": [],
      "source": [
        "def iter_data_match(matchIds):\n",
        "  #data\n",
        "  df_data = []\n",
        "  #info\n",
        "  df_info = []\n",
        "  #bans\n",
        "  df_bans = []\n",
        "  #objt\n",
        "  df_objt = []\n",
        "  #game\n",
        "  df_game = []\n",
        "\n",
        "  #error\n",
        "  error = []\n",
        "\n",
        "\n",
        "  for matchId in matchIds:\n",
        "    url= 'https://americas.api.riotgames.com/lol/match/v5/matches/{}?api_key={}'.format(matchId, api)\n",
        "    #print(url)\n",
        "\n",
        "    requ = requests.get(url)\n",
        "\n",
        "\n",
        "    if requ.status_code == 200:\n",
        "      try:\n",
        "        data, info, bans, objt, game = get_data_match(requ, matchId)\n",
        "\n",
        "        df_data.append(data)\n",
        "        df_info.append(info)\n",
        "        df_bans.append(bans)\n",
        "        df_objt.append(objt)\n",
        "        df_game.append(game)\n",
        "      except:\n",
        "        print('error here ....', matchId)\n",
        "    else :\n",
        "      time.sleep(40)\n",
        "      error.append(matchId)\n",
        "\n",
        "  if len(df_data) !=0 :\n",
        "    df_data = pd.concat(df_data, ignore_index=True)\n",
        "    df_info = pd.concat(df_info, ignore_index=True)\n",
        "    df_bans = pd.concat(df_bans, ignore_index=True)\n",
        "    df_objt = pd.concat(df_objt, ignore_index=True)\n",
        "    df_game = pd.concat(df_game, ignore_index=True)\n",
        "\n",
        "  return df_data, df_info, df_bans, df_objt, df_game, error"
      ]
    },
    {
      "cell_type": "markdown",
      "metadata": {
        "id": "WpB0ObsS3aId"
      },
      "source": [
        "## GET PUUID LOW ELO :C\n",
        "\n",
        "\n"
      ]
    },
    {
      "cell_type": "code",
      "execution_count": null,
      "metadata": {
        "colab": {
          "base_uri": "https://localhost:8080/"
        },
        "id": "mU1GaWtR0Ap5",
        "outputId": "52163866-b00b-4cb4-af0a-9c16bb46af80"
      },
      "outputs": [
        {
          "name": "stdout",
          "output_type": "stream",
          "text": [
            "IRON I\n",
            "IRON II\n",
            "IRON III\n",
            "IRON IV\n",
            "get:  1640\n",
            "BRONZE I\n",
            "BRONZE II\n",
            "BRONZE III\n",
            "BRONZE IV\n",
            "get:  1640\n",
            "SILVER I\n",
            "SILVER II\n",
            "SILVER III\n",
            "SILVER IV\n",
            "get:  1640\n",
            "GOLD I\n",
            "GOLD II\n",
            "GOLD III\n",
            "GOLD IV\n",
            "get:  1640\n",
            "PLATINUM I\n",
            "PLATINUM II\n",
            "PLATINUM III\n",
            "PLATINUM IV\n",
            "get:  1640\n",
            "DIAMOND I\n",
            "DIAMOND II\n",
            "DIAMOND III\n",
            "DIAMOND IV\n",
            "get:  1640\n"
          ]
        }
      ],
      "source": [
        "for elo in leagues:\n",
        "  \n",
        "  da_f = []\n",
        "  time.sleep(4)\n",
        "\n",
        "  for d in division:\n",
        "    print(elo, d)\n",
        "    da_f.append(summoners(elo, d))\n",
        "  dLoL_summ = pd.concat(da_f, ignore_index=True)\n",
        "  \n",
        "  print('get: ', (len(dLoL_summ) ))\n",
        "\n",
        "  dLoL_summ.to_csv(path+ elo + '/summ_{}.csv'.format(elo),  index=False)\n",
        "\n",
        "  \n",
        "  #dLoL_puid.to_csv('/content/drive/MyDrive/LoL Data/puuid_{}.csv'.format(elo), index_col = False)\n",
        "  "
      ]
    },
    {
      "cell_type": "code",
      "execution_count": null,
      "metadata": {
        "colab": {
          "base_uri": "https://localhost:8080/"
        },
        "id": "7bLcDq-_QTnY",
        "outputId": "eccc9c8a-45c1-4e89-c44f-ed3047dd38e1"
      },
      "outputs": [
        {
          "name": "stdout",
          "output_type": "stream",
          "text": [
            "IRON\n",
            "True     1261\n",
            "False     379\n",
            "dtype: int64\n",
            "erros...:  238\n",
            "erros...:  25\n",
            "size.... 1640\n",
            "BRONZE\n",
            "True     1118\n",
            "False     522\n",
            "dtype: int64\n",
            "erros...:  229\n",
            "erros...:  25\n",
            "size.... 1640\n",
            "SILVER\n",
            "True     1291\n",
            "False     349\n",
            "dtype: int64\n",
            "erros...:  228\n",
            "erros...:  24\n",
            "erros...:  8\n",
            "size.... 1640\n",
            "GOLD\n",
            "True     1404\n",
            "False     236\n",
            "dtype: int64\n",
            "erros...:  229\n",
            "erros...:  25\n",
            "size.... 1640\n",
            "PLATINUM\n",
            "True     1464\n",
            "False     176\n",
            "dtype: int64\n",
            "erros...:  229\n",
            "erros...:  25\n",
            "size.... 1640\n",
            "DIAMOND\n",
            "True     1571\n",
            "False      69\n",
            "dtype: int64\n",
            "erros...:  240\n",
            "erros...:  34\n",
            "size.... 1640\n"
          ]
        }
      ],
      "source": [
        "for elo in leagues:\n",
        "  dLoL_summ = pd.read_csv(path+ elo + '/summ_{}.csv'.format(elo))\n",
        "  print(elo)\n",
        "  print(((dLoL_summ['wins'] + dLoL_summ['losses'] > 20).value_counts()))\n",
        "\n",
        "  dLoL_pud0, error = get_summoner(dLoL_summ['summonerId'])\n",
        "\n",
        "  l_axd = []\n",
        "  l_axd.append(dLoL_pud0)\n",
        "\n",
        "  while len(error) != 0:\n",
        "    print('erros...: ', len(error))\n",
        "    time.sleep(40)\n",
        "    _dLoL_puud, error = get_summoner(error)\n",
        "    if(len(_dLoL_puud)!=0):\n",
        "      l_axd.append(_dLoL_puud)\n",
        "\n",
        "  dLoL_puid = pd.concat(l_axd, ignore_index=True)\n",
        "  print('size....', len(dLoL_puid))\n",
        "\n",
        "  \n",
        "  dLoL_puid.to_csv(path+ elo + '/puid_{}.csv'.format(elo),  index=False)\n"
      ]
    },
    {
      "cell_type": "markdown",
      "metadata": {
        "id": "9wNWB9jdVvqY"
      },
      "source": [
        "## GET PUUID HIGH ELO :)\n"
      ]
    },
    {
      "cell_type": "code",
      "execution_count": null,
      "metadata": {
        "colab": {
          "base_uri": "https://localhost:8080/"
        },
        "id": "P5hy6f5XTkKC",
        "outputId": "0a56b687-602b-4e36-f96b-9de450a3ade7"
      },
      "outputs": [
        {
          "name": "stdout",
          "output_type": "stream",
          "text": [
            "https://la1.api.riotgames.com/lol/league/v4/masterleagues/by-queue/RANKED_SOLO_5x5?api_key=RGAPI-21902b76-766b-485c-b32b-caec65ca7bb0\n",
            "https://la1.api.riotgames.com/lol/league/v4/grandmasterleagues/by-queue/RANKED_SOLO_5x5?api_key=RGAPI-21902b76-766b-485c-b32b-caec65ca7bb0\n",
            "https://la1.api.riotgames.com/lol/league/v4/challengerleagues/by-queue/RANKED_SOLO_5x5?api_key=RGAPI-21902b76-766b-485c-b32b-caec65ca7bb0\n"
          ]
        }
      ],
      "source": [
        "for s_elo in super_leauges:\n",
        "  dLoL_summ = get_summoner_high_elo(s_elo)\n",
        "  dLoL_summ.to_csv( path + s_elo + '/summ_{}.csv'.format(s_elo),  index=False)\n"
      ]
    },
    {
      "cell_type": "code",
      "execution_count": null,
      "metadata": {
        "colab": {
          "base_uri": "https://localhost:8080/"
        },
        "id": "DjEu0AN0UEk2",
        "outputId": "691fb498-6185-43c5-a889-ec8f7ec698c5"
      },
      "outputs": [
        {
          "name": "stdout",
          "output_type": "stream",
          "text": [
            "challengerleagues ><<> 200\n",
            "True    200\n",
            "dtype: int64\n",
            "erros...:  100\n",
            "erros...:  36\n",
            "grandmasterleagues ><<> 500\n",
            "True    500\n",
            "dtype: int64\n",
            "erros...:  302\n",
            "erros...:  200\n",
            "erros...:  100\n",
            "erros...:  94\n",
            "masterleagues ><<> 2538\n",
            "True     2532\n",
            "False       6\n",
            "dtype: int64\n",
            "erros...:  1638\n",
            "erros...:  1017\n",
            "erros...:  638\n",
            "erros...:  338\n",
            "erros...:  238\n",
            "erros...:  138\n",
            "erros...:  38\n",
            "erros...:  38\n",
            "erros...:  38\n"
          ]
        }
      ],
      "source": [
        "for s_elo in reversed(super_leauges):\n",
        "  dLoL_summ = pd.read_csv(path+ s_elo + '/summ_{}.csv'.format(s_elo))\n",
        "  print(s_elo, '><<>', len(dLoL_summ))\n",
        "  print(((dLoL_summ['wins'] + dLoL_summ['losses'] > 20).value_counts()))\n",
        "\n",
        "  dLoL_pud0, error = get_summoner(dLoL_summ['summonerId'])\n",
        "\n",
        "  l_axd = []\n",
        "  l_axd.append(dLoL_pud0)\n",
        "\n",
        "  while len(error) != 0:\n",
        "    print('erros...: ', len(error))\n",
        "    time.sleep(40)\n",
        "    _dLoL_puud, error = get_summoner(error)\n",
        "    if(len(_dLoL_puud)!=0):\n",
        "      l_axd.append(_dLoL_puud)\n",
        "\n",
        "  dLoL_puid = pd.concat(l_axd, ignore_index=True)\n",
        "\n",
        "  dLoL_puid.to_csv(path + s_elo+ '/puid_{}.csv'.format(s_elo),  index=False)"
      ]
    },
    {
      "cell_type": "markdown",
      "metadata": {
        "id": "gJd5fFVQgWVJ"
      },
      "source": [
        "## Get matchId"
      ]
    },
    {
      "cell_type": "code",
      "execution_count": null,
      "metadata": {
        "colab": {
          "base_uri": "https://localhost:8080/"
        },
        "id": "JSbAYs50XB7a",
        "outputId": "7caf675e-ece7-46ad-e739-62b5a4ed7542"
      },
      "outputs": [
        {
          "name": "stdout",
          "output_type": "stream",
          "text": [
            "erros...:  3\n",
            "size.... 16000\n",
            "erros...:  9\n",
            "size.... 39979\n",
            "erros...:  49\n",
            "size.... 50760\n"
          ]
        }
      ],
      "source": [
        "for s_elo in reversed(super_leauges):\n",
        "  db_matchs = pd.read_csv(path + s_elo+ '/puid_{}.csv'.format(s_elo))\n",
        "  count = 20\n",
        "  if len(db_matchs) < 800:\n",
        "    count = 80\n",
        "  dLoL_pud0, error = get_matchId(db_matchs['puuid'], count)\n",
        "\n",
        "  l_axd = []\n",
        "  l_axd.append(dLoL_pud0)\n",
        "\n",
        "  while len(error) != 0:\n",
        "    print('erros...: ', len(error))\n",
        "    time.sleep(40)\n",
        "    _dLoL_puud, error = get_matchId(error, count)\n",
        "    if(len(_dLoL_puud)!=0):\n",
        "      l_axd.append(_dLoL_puud)\n",
        "\n",
        "  dLoL_match = pd.concat(l_axd, ignore_index=True)\n",
        "  print('size....', len(dLoL_match))\n",
        "\n",
        "  dLoL_match.to_csv(path + s_elo+ '/match_{}.csv'.format(s_elo),  index=False)"
      ]
    },
    {
      "cell_type": "code",
      "execution_count": null,
      "metadata": {
        "colab": {
          "base_uri": "https://localhost:8080/"
        },
        "id": "9G59YOuc3v7d",
        "outputId": "a694f43e-6ed0-4b46-b325-896e841094d6"
      },
      "outputs": [
        {
          "name": "stdout",
          "output_type": "stream",
          "text": [
            "erros...:  32\n",
            "size.... 32800\n",
            "erros...:  31\n",
            "size.... 32800\n",
            "erros...:  31\n",
            "erros...:  1\n",
            "size.... 32788\n",
            "erros...:  31\n",
            "size.... 32800\n",
            "erros...:  31\n",
            "erros...:  1\n",
            "size.... 32658\n",
            "erros...:  32\n",
            "size.... 32682\n"
          ]
        }
      ],
      "source": [
        "for s_elo in reversed(leagues):\n",
        "  db_matchs = pd.read_csv(path + s_elo+ '/puid_{}.csv'.format(s_elo))\n",
        "  dLoL_pud0, error = get_matchId(db_matchs['puuid'], 20)\n",
        "\n",
        "  l_axd = []\n",
        "  l_axd.append(dLoL_pud0)\n",
        "\n",
        "  while len(error) != 0:\n",
        "    print('erros...: ', len(error))\n",
        "    time.sleep(40)\n",
        "    _dLoL_puud, error = get_matchId(error, count)\n",
        "    if(len(_dLoL_puud)!=0):\n",
        "      l_axd.append(_dLoL_puud)\n",
        "\n",
        "  dLoL_match = pd.concat(l_axd, ignore_index=True)\n",
        "  print('size....', len(dLoL_match))\n",
        "\n",
        "  dLoL_match.to_csv(path + s_elo+ '/match_{}.csv'.format(s_elo),  index=False)"
      ]
    },
    {
      "cell_type": "markdown",
      "metadata": {
        "id": "rJsWjZKgPnkn"
      },
      "source": [
        "## Gama Data"
      ]
    },
    {
      "cell_type": "code",
      "execution_count": null,
      "metadata": {
        "colab": {
          "base_uri": "https://localhost:8080/"
        },
        "id": "ERTlVb1OjgQT",
        "outputId": "24c8758d-31b8-4b1a-d67a-e62315e1d193"
      },
      "outputs": [
        {
          "output_type": "stream",
          "name": "stdout",
          "text": [
            "Looking in indexes: https://pypi.org/simple, https://us-python.pkg.dev/colab-wheels/public/simple/\n",
            "Requirement already satisfied: pyarrow in /usr/local/lib/python3.9/dist-packages (9.0.0)\n",
            "Requirement already satisfied: numpy>=1.16.6 in /usr/local/lib/python3.9/dist-packages (from pyarrow) (1.22.4)\n"
          ]
        }
      ],
      "source": [
        "!pip install pyarrow"
      ]
    },
    {
      "cell_type": "code",
      "execution_count": null,
      "metadata": {
        "id": "J2qXJhF975PU"
      },
      "outputs": [],
      "source": [
        "form_1 = '/csv'\n",
        "form_2 = '/parket'\n",
        "for i in leagues + super_leauges:\n",
        "  #print(path + i)\n",
        "  if not os.path.exists(path + i + form_1):\n",
        "    print('><> creating file ><>')\n",
        "    os.makedirs(path + i + form_1)\n",
        "  if not os.path.exists(path + i + form_2):\n",
        "    print('><> creating file ><>')\n",
        "    os.makedirs(path + i + form_2)"
      ]
    },
    {
      "cell_type": "code",
      "execution_count": null,
      "metadata": {
        "id": "YXVxWsZEWCYv"
      },
      "outputs": [],
      "source": [
        "#dLoL_pud0, error = get_matchId(db_matchs['puuid'])\n",
        "def save_data(db_iter, elo, i):\n",
        "  df_data, df_info, df_bans, df_objt, df_game, error = iter_data_match(db_iter['0'])\n",
        "\n",
        "  l_df_data = []\n",
        "  l_df_info = []\n",
        "  l_df_bans = []\n",
        "  l_df_objt = []\n",
        "  l_df_game = []\n",
        "\n",
        "  l_df_data.append(df_data)\n",
        "  l_df_info.append(df_info)\n",
        "  l_df_bans.append(df_bans)\n",
        "  l_df_objt.append(df_objt)\n",
        "  l_df_game.append(df_game)\n",
        "\n",
        "  if len(df_data) == 0:\n",
        "    print('kill the code')\n",
        "\n",
        "  else:\n",
        "    print('working hard  ¦̵̱ ̵̱ ̵̱ ̵̱ ̵̱(̢ ̡͇̅└͇̅┘͇̅ (▤8כ−◦ ....',len(l_df_data))\n",
        "\n",
        "  while len(error) != 0:\n",
        "    print('erros...: ', len(error))\n",
        "    time.sleep(40)\n",
        "    #_dLoL_puud, error = get_matchId(error)\n",
        "    try:\n",
        "      _df_data, _df_info, _df_bans, _df_objt, _df_game, error = iter_data_match(error)\n",
        "\n",
        "      if(len(_df_data)!=0):\n",
        "        l_df_data.append(_df_data)\n",
        "        l_df_info.append(_df_info)\n",
        "        l_df_bans.append(_df_bans)\n",
        "        l_df_objt.append(_df_objt)\n",
        "        l_df_game.append(_df_game)\n",
        "    except:\n",
        "\n",
        "      print('fatal error ... __̴ı̴̴̡̡̡ ̡͌l̡̡̡ ̡͌l̡*̡̡ ̴̡ı̴̴̡ ̡̡͡|̲̲̲͡͡͡ ̲▫̲͡ ̲̲̲͡͡π̲̲͡͡ ̲̲͡▫̲̲͡͡ ̲|̡̡̡ ̡ ̴̡ı̴̡̡ ̡͌l̡̡̡̡.___')\n",
        "      break\n",
        "\n",
        "  df_df_data = pd.concat(l_df_data, ignore_index=True)\n",
        "  df_df_info = pd.concat(l_df_info, ignore_index=True)\n",
        "  df_df_bans = pd.concat(l_df_bans, ignore_index=True)\n",
        "  df_df_objt = pd.concat(l_df_objt, ignore_index=True)\n",
        "  df_df_game = pd.concat(l_df_game, ignore_index=True)\n",
        "\n",
        "  df_df_data.to_parquet(path + elo + form_2 + '/data_{}_batch_{}.parquet'.format(elo, i) ,  index=False, engine = 'pyarrow')\n",
        "  df_df_info.to_parquet(path + elo + form_2 + '/info_{}_batch_{}.parquet'.format(elo, i) ,  index=False, engine = 'pyarrow')\n",
        "  df_df_bans.to_parquet(path + elo + form_2 + '/bans_{}_batch_{}.parquet'.format(elo, i) ,  index=False, engine = 'pyarrow')\n",
        "  df_df_objt.to_parquet(path + elo + form_2 + '/objt_{}_batch_{}.parquet'.format(elo, i) ,  index=False, engine = 'pyarrow')\n",
        "  df_df_game.to_parquet(path + elo + form_2 + '/game_{}_batch_{}.parquet'.format(elo, i) ,  index=False, engine = 'pyarrow')\n",
        "\n",
        "  df_df_data.to_csv(path + elo + form_1 + '/data_{}_batch_{}.csv'.format(elo, i) ,  index=False)\n",
        "  df_df_info.to_csv(path + elo + form_1 + '/info_{}_batch_{}.csv'.format(elo, i) ,  index=False)\n",
        "  df_df_bans.to_csv(path + elo + form_1 + '/bans_{}_batch_{}.csv'.format(elo, i) ,  index=False)\n",
        "  df_df_objt.to_csv(path + elo + form_1 + '/objt_{}_batch_{}.csv'.format(elo, i) ,  index=False)\n",
        "  df_df_game.to_csv(path + elo + form_1 + '/game_{}_batch_{}.csv'.format(elo, i) ,  index=False)\n"
      ]
    },
    {
      "cell_type": "code",
      "execution_count": null,
      "metadata": {
        "colab": {
          "base_uri": "https://localhost:8080/",
          "height": 801
        },
        "id": "CPapGq3--uOx",
        "outputId": "79d7311c-81e0-432b-a342-8acc105c34cb"
      },
      "outputs": [
        {
          "output_type": "stream",
          "name": "stdout",
          "text": [
            "original.... 16000\n",
            "challengerleagues  ><>  11930  <><  2982\n",
            "/data_challengerleagues_batch_0 .... complete\n",
            "/data_challengerleagues_batch_1 .... complete\n",
            "/data_challengerleagues_batch_2 .... complete\n",
            "/data_challengerleagues_batch_3 .... complete\n",
            "original.... 39979\n",
            "grandmasterleagues  ><>  23263  <><  5815\n",
            "/data_grandmasterleagues_batch_0 .... complete\n",
            "/data_grandmasterleagues_batch_1 .... complete\n",
            "/data_grandmasterleagues_batch_2 .... complete\n",
            "/data_grandmasterleagues_batch_3 .... complete\n",
            "original.... 50760\n",
            "masterleagues  ><>  27545  <><  6886\n",
            "/data_masterleagues_batch_0 .... complete\n",
            "/content/drive/MyDrive/LoL api data/masterleagues/parket/data_masterleagues_batch_1.parquet .... not found :c\n",
            "...\n",
            "error here .... LA1_1366451657\n",
            "error here .... LA1_1366451657\n",
            "working hard  ¦̵̱ ̵̱ ̵̱ ̵̱ ̵̱(̢ ̡͇̅└͇̅┘͇̅ (▤8כ−◦ .... 1\n",
            "erros...:  134\n",
            "/content/drive/MyDrive/LoL api data/masterleagues/parket/data_masterleagues_batch_2.parquet .... not found :c\n",
            "...\n"
          ]
        },
        {
          "output_type": "error",
          "ename": "KeyboardInterrupt",
          "evalue": "ignored",
          "traceback": [
            "\u001b[0;31m---------------------------------------------------------------------------\u001b[0m",
            "\u001b[0;31mKeyboardInterrupt\u001b[0m                         Traceback (most recent call last)",
            "\u001b[0;32m<ipython-input-11-eba750580650>\u001b[0m in \u001b[0;36m<cell line: 1>\u001b[0;34m()\u001b[0m\n\u001b[1;32m     18\u001b[0m       \u001b[0mprint\u001b[0m\u001b[0;34m(\u001b[0m\u001b[0mpath\u001b[0m \u001b[0;34m+\u001b[0m \u001b[0melo\u001b[0m \u001b[0;34m+\u001b[0m \u001b[0mform_2\u001b[0m \u001b[0;34m+\u001b[0m \u001b[0;34m'/data_{}_batch_{}.parquet'\u001b[0m\u001b[0;34m.\u001b[0m\u001b[0mformat\u001b[0m\u001b[0;34m(\u001b[0m\u001b[0melo\u001b[0m\u001b[0;34m,\u001b[0m \u001b[0mi\u001b[0m\u001b[0;34m)\u001b[0m\u001b[0;34m,\u001b[0m \u001b[0;34m'.... not found :c'\u001b[0m\u001b[0;34m)\u001b[0m\u001b[0;34m\u001b[0m\u001b[0;34m\u001b[0m\u001b[0m\n\u001b[1;32m     19\u001b[0m       \u001b[0mprint\u001b[0m\u001b[0;34m(\u001b[0m\u001b[0;34m'...'\u001b[0m\u001b[0;34m)\u001b[0m\u001b[0;34m\u001b[0m\u001b[0;34m\u001b[0m\u001b[0m\n\u001b[0;32m---> 20\u001b[0;31m       \u001b[0msave_data\u001b[0m\u001b[0;34m(\u001b[0m\u001b[0mbatch\u001b[0m\u001b[0;34m[\u001b[0m\u001b[0mi\u001b[0m\u001b[0;34m]\u001b[0m\u001b[0;34m,\u001b[0m \u001b[0melo\u001b[0m\u001b[0;34m,\u001b[0m \u001b[0mi\u001b[0m\u001b[0;34m)\u001b[0m\u001b[0;34m\u001b[0m\u001b[0;34m\u001b[0m\u001b[0m\n\u001b[0m\u001b[1;32m     21\u001b[0m     \u001b[0;32melse\u001b[0m\u001b[0;34m:\u001b[0m\u001b[0;34m\u001b[0m\u001b[0;34m\u001b[0m\u001b[0m\n\u001b[1;32m     22\u001b[0m       \u001b[0mprint\u001b[0m\u001b[0;34m(\u001b[0m\u001b[0;34m'/data_{}_batch_{}'\u001b[0m\u001b[0;34m.\u001b[0m\u001b[0mformat\u001b[0m\u001b[0;34m(\u001b[0m\u001b[0melo\u001b[0m\u001b[0;34m,\u001b[0m \u001b[0mi\u001b[0m\u001b[0;34m)\u001b[0m\u001b[0;34m,\u001b[0m \u001b[0;34m'.... complete'\u001b[0m\u001b[0;34m)\u001b[0m\u001b[0;34m\u001b[0m\u001b[0;34m\u001b[0m\u001b[0m\n",
            "\u001b[0;32m<ipython-input-10-c6d2aecddad9>\u001b[0m in \u001b[0;36msave_data\u001b[0;34m(db_iter, elo, i)\u001b[0m\n\u001b[1;32m      1\u001b[0m \u001b[0;31m#dLoL_pud0, error = get_matchId(db_matchs['puuid'])\u001b[0m\u001b[0;34m\u001b[0m\u001b[0;34m\u001b[0m\u001b[0m\n\u001b[1;32m      2\u001b[0m \u001b[0;32mdef\u001b[0m \u001b[0msave_data\u001b[0m\u001b[0;34m(\u001b[0m\u001b[0mdb_iter\u001b[0m\u001b[0;34m,\u001b[0m \u001b[0melo\u001b[0m\u001b[0;34m,\u001b[0m \u001b[0mi\u001b[0m\u001b[0;34m)\u001b[0m\u001b[0;34m:\u001b[0m\u001b[0;34m\u001b[0m\u001b[0;34m\u001b[0m\u001b[0m\n\u001b[0;32m----> 3\u001b[0;31m   \u001b[0mdf_data\u001b[0m\u001b[0;34m,\u001b[0m \u001b[0mdf_info\u001b[0m\u001b[0;34m,\u001b[0m \u001b[0mdf_bans\u001b[0m\u001b[0;34m,\u001b[0m \u001b[0mdf_objt\u001b[0m\u001b[0;34m,\u001b[0m \u001b[0mdf_game\u001b[0m\u001b[0;34m,\u001b[0m \u001b[0merror\u001b[0m \u001b[0;34m=\u001b[0m \u001b[0miter_data_match\u001b[0m\u001b[0;34m(\u001b[0m\u001b[0mdb_iter\u001b[0m\u001b[0;34m[\u001b[0m\u001b[0;34m'0'\u001b[0m\u001b[0;34m]\u001b[0m\u001b[0;34m)\u001b[0m\u001b[0;34m\u001b[0m\u001b[0;34m\u001b[0m\u001b[0m\n\u001b[0m\u001b[1;32m      4\u001b[0m \u001b[0;34m\u001b[0m\u001b[0m\n\u001b[1;32m      5\u001b[0m   \u001b[0ml_df_data\u001b[0m \u001b[0;34m=\u001b[0m \u001b[0;34m[\u001b[0m\u001b[0;34m]\u001b[0m\u001b[0;34m\u001b[0m\u001b[0;34m\u001b[0m\u001b[0m\n",
            "\u001b[0;32m<ipython-input-6-07d7c9b58470>\u001b[0m in \u001b[0;36miter_data_match\u001b[0;34m(matchIds)\u001b[0m\n\u001b[1;32m     19\u001b[0m     \u001b[0;31m#print(url)\u001b[0m\u001b[0;34m\u001b[0m\u001b[0;34m\u001b[0m\u001b[0m\n\u001b[1;32m     20\u001b[0m \u001b[0;34m\u001b[0m\u001b[0m\n\u001b[0;32m---> 21\u001b[0;31m     \u001b[0mrequ\u001b[0m \u001b[0;34m=\u001b[0m \u001b[0mrequests\u001b[0m\u001b[0;34m.\u001b[0m\u001b[0mget\u001b[0m\u001b[0;34m(\u001b[0m\u001b[0murl\u001b[0m\u001b[0;34m)\u001b[0m\u001b[0;34m\u001b[0m\u001b[0;34m\u001b[0m\u001b[0m\n\u001b[0m\u001b[1;32m     22\u001b[0m \u001b[0;34m\u001b[0m\u001b[0m\n\u001b[1;32m     23\u001b[0m \u001b[0;34m\u001b[0m\u001b[0m\n",
            "\u001b[0;32m/usr/local/lib/python3.9/dist-packages/requests/api.py\u001b[0m in \u001b[0;36mget\u001b[0;34m(url, params, **kwargs)\u001b[0m\n\u001b[1;32m     73\u001b[0m     \"\"\"\n\u001b[1;32m     74\u001b[0m \u001b[0;34m\u001b[0m\u001b[0m\n\u001b[0;32m---> 75\u001b[0;31m     \u001b[0;32mreturn\u001b[0m \u001b[0mrequest\u001b[0m\u001b[0;34m(\u001b[0m\u001b[0;34m'get'\u001b[0m\u001b[0;34m,\u001b[0m \u001b[0murl\u001b[0m\u001b[0;34m,\u001b[0m \u001b[0mparams\u001b[0m\u001b[0;34m=\u001b[0m\u001b[0mparams\u001b[0m\u001b[0;34m,\u001b[0m \u001b[0;34m**\u001b[0m\u001b[0mkwargs\u001b[0m\u001b[0;34m)\u001b[0m\u001b[0;34m\u001b[0m\u001b[0;34m\u001b[0m\u001b[0m\n\u001b[0m\u001b[1;32m     76\u001b[0m \u001b[0;34m\u001b[0m\u001b[0m\n\u001b[1;32m     77\u001b[0m \u001b[0;34m\u001b[0m\u001b[0m\n",
            "\u001b[0;32m/usr/local/lib/python3.9/dist-packages/requests/api.py\u001b[0m in \u001b[0;36mrequest\u001b[0;34m(method, url, **kwargs)\u001b[0m\n\u001b[1;32m     59\u001b[0m     \u001b[0;31m# cases, and look like a memory leak in others.\u001b[0m\u001b[0;34m\u001b[0m\u001b[0;34m\u001b[0m\u001b[0m\n\u001b[1;32m     60\u001b[0m     \u001b[0;32mwith\u001b[0m \u001b[0msessions\u001b[0m\u001b[0;34m.\u001b[0m\u001b[0mSession\u001b[0m\u001b[0;34m(\u001b[0m\u001b[0;34m)\u001b[0m \u001b[0;32mas\u001b[0m \u001b[0msession\u001b[0m\u001b[0;34m:\u001b[0m\u001b[0;34m\u001b[0m\u001b[0;34m\u001b[0m\u001b[0m\n\u001b[0;32m---> 61\u001b[0;31m         \u001b[0;32mreturn\u001b[0m \u001b[0msession\u001b[0m\u001b[0;34m.\u001b[0m\u001b[0mrequest\u001b[0m\u001b[0;34m(\u001b[0m\u001b[0mmethod\u001b[0m\u001b[0;34m=\u001b[0m\u001b[0mmethod\u001b[0m\u001b[0;34m,\u001b[0m \u001b[0murl\u001b[0m\u001b[0;34m=\u001b[0m\u001b[0murl\u001b[0m\u001b[0;34m,\u001b[0m \u001b[0;34m**\u001b[0m\u001b[0mkwargs\u001b[0m\u001b[0;34m)\u001b[0m\u001b[0;34m\u001b[0m\u001b[0;34m\u001b[0m\u001b[0m\n\u001b[0m\u001b[1;32m     62\u001b[0m \u001b[0;34m\u001b[0m\u001b[0m\n\u001b[1;32m     63\u001b[0m \u001b[0;34m\u001b[0m\u001b[0m\n",
            "\u001b[0;32m/usr/local/lib/python3.9/dist-packages/requests/sessions.py\u001b[0m in \u001b[0;36mrequest\u001b[0;34m(self, method, url, params, data, headers, cookies, files, auth, timeout, allow_redirects, proxies, hooks, stream, verify, cert, json)\u001b[0m\n\u001b[1;32m    527\u001b[0m         }\n\u001b[1;32m    528\u001b[0m         \u001b[0msend_kwargs\u001b[0m\u001b[0;34m.\u001b[0m\u001b[0mupdate\u001b[0m\u001b[0;34m(\u001b[0m\u001b[0msettings\u001b[0m\u001b[0;34m)\u001b[0m\u001b[0;34m\u001b[0m\u001b[0;34m\u001b[0m\u001b[0m\n\u001b[0;32m--> 529\u001b[0;31m         \u001b[0mresp\u001b[0m \u001b[0;34m=\u001b[0m \u001b[0mself\u001b[0m\u001b[0;34m.\u001b[0m\u001b[0msend\u001b[0m\u001b[0;34m(\u001b[0m\u001b[0mprep\u001b[0m\u001b[0;34m,\u001b[0m \u001b[0;34m**\u001b[0m\u001b[0msend_kwargs\u001b[0m\u001b[0;34m)\u001b[0m\u001b[0;34m\u001b[0m\u001b[0;34m\u001b[0m\u001b[0m\n\u001b[0m\u001b[1;32m    530\u001b[0m \u001b[0;34m\u001b[0m\u001b[0m\n\u001b[1;32m    531\u001b[0m         \u001b[0;32mreturn\u001b[0m \u001b[0mresp\u001b[0m\u001b[0;34m\u001b[0m\u001b[0;34m\u001b[0m\u001b[0m\n",
            "\u001b[0;32m/usr/local/lib/python3.9/dist-packages/requests/sessions.py\u001b[0m in \u001b[0;36msend\u001b[0;34m(self, request, **kwargs)\u001b[0m\n\u001b[1;32m    643\u001b[0m \u001b[0;34m\u001b[0m\u001b[0m\n\u001b[1;32m    644\u001b[0m         \u001b[0;31m# Send the request\u001b[0m\u001b[0;34m\u001b[0m\u001b[0;34m\u001b[0m\u001b[0m\n\u001b[0;32m--> 645\u001b[0;31m         \u001b[0mr\u001b[0m \u001b[0;34m=\u001b[0m \u001b[0madapter\u001b[0m\u001b[0;34m.\u001b[0m\u001b[0msend\u001b[0m\u001b[0;34m(\u001b[0m\u001b[0mrequest\u001b[0m\u001b[0;34m,\u001b[0m \u001b[0;34m**\u001b[0m\u001b[0mkwargs\u001b[0m\u001b[0;34m)\u001b[0m\u001b[0;34m\u001b[0m\u001b[0;34m\u001b[0m\u001b[0m\n\u001b[0m\u001b[1;32m    646\u001b[0m \u001b[0;34m\u001b[0m\u001b[0m\n\u001b[1;32m    647\u001b[0m         \u001b[0;31m# Total elapsed time of the request (approximately)\u001b[0m\u001b[0;34m\u001b[0m\u001b[0;34m\u001b[0m\u001b[0m\n",
            "\u001b[0;32m/usr/local/lib/python3.9/dist-packages/requests/adapters.py\u001b[0m in \u001b[0;36msend\u001b[0;34m(self, request, stream, timeout, verify, cert, proxies)\u001b[0m\n\u001b[1;32m    438\u001b[0m         \u001b[0;32mtry\u001b[0m\u001b[0;34m:\u001b[0m\u001b[0;34m\u001b[0m\u001b[0;34m\u001b[0m\u001b[0m\n\u001b[1;32m    439\u001b[0m             \u001b[0;32mif\u001b[0m \u001b[0;32mnot\u001b[0m \u001b[0mchunked\u001b[0m\u001b[0;34m:\u001b[0m\u001b[0;34m\u001b[0m\u001b[0;34m\u001b[0m\u001b[0m\n\u001b[0;32m--> 440\u001b[0;31m                 resp = conn.urlopen(\n\u001b[0m\u001b[1;32m    441\u001b[0m                     \u001b[0mmethod\u001b[0m\u001b[0;34m=\u001b[0m\u001b[0mrequest\u001b[0m\u001b[0;34m.\u001b[0m\u001b[0mmethod\u001b[0m\u001b[0;34m,\u001b[0m\u001b[0;34m\u001b[0m\u001b[0;34m\u001b[0m\u001b[0m\n\u001b[1;32m    442\u001b[0m                     \u001b[0murl\u001b[0m\u001b[0;34m=\u001b[0m\u001b[0murl\u001b[0m\u001b[0;34m,\u001b[0m\u001b[0;34m\u001b[0m\u001b[0;34m\u001b[0m\u001b[0m\n",
            "\u001b[0;32m/usr/local/lib/python3.9/dist-packages/urllib3/connectionpool.py\u001b[0m in \u001b[0;36murlopen\u001b[0;34m(self, method, url, body, headers, retries, redirect, assert_same_host, timeout, pool_timeout, release_conn, chunked, body_pos, **response_kw)\u001b[0m\n\u001b[1;32m    701\u001b[0m \u001b[0;34m\u001b[0m\u001b[0m\n\u001b[1;32m    702\u001b[0m             \u001b[0;31m# Make the request on the httplib connection object.\u001b[0m\u001b[0;34m\u001b[0m\u001b[0;34m\u001b[0m\u001b[0m\n\u001b[0;32m--> 703\u001b[0;31m             httplib_response = self._make_request(\n\u001b[0m\u001b[1;32m    704\u001b[0m                 \u001b[0mconn\u001b[0m\u001b[0;34m,\u001b[0m\u001b[0;34m\u001b[0m\u001b[0;34m\u001b[0m\u001b[0m\n\u001b[1;32m    705\u001b[0m                 \u001b[0mmethod\u001b[0m\u001b[0;34m,\u001b[0m\u001b[0;34m\u001b[0m\u001b[0;34m\u001b[0m\u001b[0m\n",
            "\u001b[0;32m/usr/local/lib/python3.9/dist-packages/urllib3/connectionpool.py\u001b[0m in \u001b[0;36m_make_request\u001b[0;34m(self, conn, method, url, timeout, chunked, **httplib_request_kw)\u001b[0m\n\u001b[1;32m    447\u001b[0m                     \u001b[0;31m# Python 3 (including for exceptions like SystemExit).\u001b[0m\u001b[0;34m\u001b[0m\u001b[0;34m\u001b[0m\u001b[0m\n\u001b[1;32m    448\u001b[0m                     \u001b[0;31m# Otherwise it looks like a bug in the code.\u001b[0m\u001b[0;34m\u001b[0m\u001b[0;34m\u001b[0m\u001b[0m\n\u001b[0;32m--> 449\u001b[0;31m                     \u001b[0msix\u001b[0m\u001b[0;34m.\u001b[0m\u001b[0mraise_from\u001b[0m\u001b[0;34m(\u001b[0m\u001b[0me\u001b[0m\u001b[0;34m,\u001b[0m \u001b[0;32mNone\u001b[0m\u001b[0;34m)\u001b[0m\u001b[0;34m\u001b[0m\u001b[0;34m\u001b[0m\u001b[0m\n\u001b[0m\u001b[1;32m    450\u001b[0m         \u001b[0;32mexcept\u001b[0m \u001b[0;34m(\u001b[0m\u001b[0mSocketTimeout\u001b[0m\u001b[0;34m,\u001b[0m \u001b[0mBaseSSLError\u001b[0m\u001b[0;34m,\u001b[0m \u001b[0mSocketError\u001b[0m\u001b[0;34m)\u001b[0m \u001b[0;32mas\u001b[0m \u001b[0me\u001b[0m\u001b[0;34m:\u001b[0m\u001b[0;34m\u001b[0m\u001b[0;34m\u001b[0m\u001b[0m\n\u001b[1;32m    451\u001b[0m             \u001b[0mself\u001b[0m\u001b[0;34m.\u001b[0m\u001b[0m_raise_timeout\u001b[0m\u001b[0;34m(\u001b[0m\u001b[0merr\u001b[0m\u001b[0;34m=\u001b[0m\u001b[0me\u001b[0m\u001b[0;34m,\u001b[0m \u001b[0murl\u001b[0m\u001b[0;34m=\u001b[0m\u001b[0murl\u001b[0m\u001b[0;34m,\u001b[0m \u001b[0mtimeout_value\u001b[0m\u001b[0;34m=\u001b[0m\u001b[0mread_timeout\u001b[0m\u001b[0;34m)\u001b[0m\u001b[0;34m\u001b[0m\u001b[0;34m\u001b[0m\u001b[0m\n",
            "\u001b[0;32m/usr/local/lib/python3.9/dist-packages/urllib3/packages/six.py\u001b[0m in \u001b[0;36mraise_from\u001b[0;34m(value, from_value)\u001b[0m\n",
            "\u001b[0;32m/usr/local/lib/python3.9/dist-packages/urllib3/connectionpool.py\u001b[0m in \u001b[0;36m_make_request\u001b[0;34m(self, conn, method, url, timeout, chunked, **httplib_request_kw)\u001b[0m\n\u001b[1;32m    442\u001b[0m                 \u001b[0;31m# Python 3\u001b[0m\u001b[0;34m\u001b[0m\u001b[0;34m\u001b[0m\u001b[0m\n\u001b[1;32m    443\u001b[0m                 \u001b[0;32mtry\u001b[0m\u001b[0;34m:\u001b[0m\u001b[0;34m\u001b[0m\u001b[0;34m\u001b[0m\u001b[0m\n\u001b[0;32m--> 444\u001b[0;31m                     \u001b[0mhttplib_response\u001b[0m \u001b[0;34m=\u001b[0m \u001b[0mconn\u001b[0m\u001b[0;34m.\u001b[0m\u001b[0mgetresponse\u001b[0m\u001b[0;34m(\u001b[0m\u001b[0;34m)\u001b[0m\u001b[0;34m\u001b[0m\u001b[0;34m\u001b[0m\u001b[0m\n\u001b[0m\u001b[1;32m    445\u001b[0m                 \u001b[0;32mexcept\u001b[0m \u001b[0mBaseException\u001b[0m \u001b[0;32mas\u001b[0m \u001b[0me\u001b[0m\u001b[0;34m:\u001b[0m\u001b[0;34m\u001b[0m\u001b[0;34m\u001b[0m\u001b[0m\n\u001b[1;32m    446\u001b[0m                     \u001b[0;31m# Remove the TypeError from the exception chain in\u001b[0m\u001b[0;34m\u001b[0m\u001b[0;34m\u001b[0m\u001b[0m\n",
            "\u001b[0;32m/usr/lib/python3.9/http/client.py\u001b[0m in \u001b[0;36mgetresponse\u001b[0;34m(self)\u001b[0m\n\u001b[1;32m   1375\u001b[0m         \u001b[0;32mtry\u001b[0m\u001b[0;34m:\u001b[0m\u001b[0;34m\u001b[0m\u001b[0;34m\u001b[0m\u001b[0m\n\u001b[1;32m   1376\u001b[0m             \u001b[0;32mtry\u001b[0m\u001b[0;34m:\u001b[0m\u001b[0;34m\u001b[0m\u001b[0;34m\u001b[0m\u001b[0m\n\u001b[0;32m-> 1377\u001b[0;31m                 \u001b[0mresponse\u001b[0m\u001b[0;34m.\u001b[0m\u001b[0mbegin\u001b[0m\u001b[0;34m(\u001b[0m\u001b[0;34m)\u001b[0m\u001b[0;34m\u001b[0m\u001b[0;34m\u001b[0m\u001b[0m\n\u001b[0m\u001b[1;32m   1378\u001b[0m             \u001b[0;32mexcept\u001b[0m \u001b[0mConnectionError\u001b[0m\u001b[0;34m:\u001b[0m\u001b[0;34m\u001b[0m\u001b[0;34m\u001b[0m\u001b[0m\n\u001b[1;32m   1379\u001b[0m                 \u001b[0mself\u001b[0m\u001b[0;34m.\u001b[0m\u001b[0mclose\u001b[0m\u001b[0;34m(\u001b[0m\u001b[0;34m)\u001b[0m\u001b[0;34m\u001b[0m\u001b[0;34m\u001b[0m\u001b[0m\n",
            "\u001b[0;32m/usr/lib/python3.9/http/client.py\u001b[0m in \u001b[0;36mbegin\u001b[0;34m(self)\u001b[0m\n\u001b[1;32m    318\u001b[0m         \u001b[0;31m# read until we get a non-100 response\u001b[0m\u001b[0;34m\u001b[0m\u001b[0;34m\u001b[0m\u001b[0m\n\u001b[1;32m    319\u001b[0m         \u001b[0;32mwhile\u001b[0m \u001b[0;32mTrue\u001b[0m\u001b[0;34m:\u001b[0m\u001b[0;34m\u001b[0m\u001b[0;34m\u001b[0m\u001b[0m\n\u001b[0;32m--> 320\u001b[0;31m             \u001b[0mversion\u001b[0m\u001b[0;34m,\u001b[0m \u001b[0mstatus\u001b[0m\u001b[0;34m,\u001b[0m \u001b[0mreason\u001b[0m \u001b[0;34m=\u001b[0m \u001b[0mself\u001b[0m\u001b[0;34m.\u001b[0m\u001b[0m_read_status\u001b[0m\u001b[0;34m(\u001b[0m\u001b[0;34m)\u001b[0m\u001b[0;34m\u001b[0m\u001b[0;34m\u001b[0m\u001b[0m\n\u001b[0m\u001b[1;32m    321\u001b[0m             \u001b[0;32mif\u001b[0m \u001b[0mstatus\u001b[0m \u001b[0;34m!=\u001b[0m \u001b[0mCONTINUE\u001b[0m\u001b[0;34m:\u001b[0m\u001b[0;34m\u001b[0m\u001b[0;34m\u001b[0m\u001b[0m\n\u001b[1;32m    322\u001b[0m                 \u001b[0;32mbreak\u001b[0m\u001b[0;34m\u001b[0m\u001b[0;34m\u001b[0m\u001b[0m\n",
            "\u001b[0;32m/usr/lib/python3.9/http/client.py\u001b[0m in \u001b[0;36m_read_status\u001b[0;34m(self)\u001b[0m\n\u001b[1;32m    279\u001b[0m \u001b[0;34m\u001b[0m\u001b[0m\n\u001b[1;32m    280\u001b[0m     \u001b[0;32mdef\u001b[0m \u001b[0m_read_status\u001b[0m\u001b[0;34m(\u001b[0m\u001b[0mself\u001b[0m\u001b[0;34m)\u001b[0m\u001b[0;34m:\u001b[0m\u001b[0;34m\u001b[0m\u001b[0;34m\u001b[0m\u001b[0m\n\u001b[0;32m--> 281\u001b[0;31m         \u001b[0mline\u001b[0m \u001b[0;34m=\u001b[0m \u001b[0mstr\u001b[0m\u001b[0;34m(\u001b[0m\u001b[0mself\u001b[0m\u001b[0;34m.\u001b[0m\u001b[0mfp\u001b[0m\u001b[0;34m.\u001b[0m\u001b[0mreadline\u001b[0m\u001b[0;34m(\u001b[0m\u001b[0m_MAXLINE\u001b[0m \u001b[0;34m+\u001b[0m \u001b[0;36m1\u001b[0m\u001b[0;34m)\u001b[0m\u001b[0;34m,\u001b[0m \u001b[0;34m\"iso-8859-1\"\u001b[0m\u001b[0;34m)\u001b[0m\u001b[0;34m\u001b[0m\u001b[0;34m\u001b[0m\u001b[0m\n\u001b[0m\u001b[1;32m    282\u001b[0m         \u001b[0;32mif\u001b[0m \u001b[0mlen\u001b[0m\u001b[0;34m(\u001b[0m\u001b[0mline\u001b[0m\u001b[0;34m)\u001b[0m \u001b[0;34m>\u001b[0m \u001b[0m_MAXLINE\u001b[0m\u001b[0;34m:\u001b[0m\u001b[0;34m\u001b[0m\u001b[0;34m\u001b[0m\u001b[0m\n\u001b[1;32m    283\u001b[0m             \u001b[0;32mraise\u001b[0m \u001b[0mLineTooLong\u001b[0m\u001b[0;34m(\u001b[0m\u001b[0;34m\"status line\"\u001b[0m\u001b[0;34m)\u001b[0m\u001b[0;34m\u001b[0m\u001b[0;34m\u001b[0m\u001b[0m\n",
            "\u001b[0;32m/usr/lib/python3.9/socket.py\u001b[0m in \u001b[0;36mreadinto\u001b[0;34m(self, b)\u001b[0m\n\u001b[1;32m    702\u001b[0m         \u001b[0;32mwhile\u001b[0m \u001b[0;32mTrue\u001b[0m\u001b[0;34m:\u001b[0m\u001b[0;34m\u001b[0m\u001b[0;34m\u001b[0m\u001b[0m\n\u001b[1;32m    703\u001b[0m             \u001b[0;32mtry\u001b[0m\u001b[0;34m:\u001b[0m\u001b[0;34m\u001b[0m\u001b[0;34m\u001b[0m\u001b[0m\n\u001b[0;32m--> 704\u001b[0;31m                 \u001b[0;32mreturn\u001b[0m \u001b[0mself\u001b[0m\u001b[0;34m.\u001b[0m\u001b[0m_sock\u001b[0m\u001b[0;34m.\u001b[0m\u001b[0mrecv_into\u001b[0m\u001b[0;34m(\u001b[0m\u001b[0mb\u001b[0m\u001b[0;34m)\u001b[0m\u001b[0;34m\u001b[0m\u001b[0;34m\u001b[0m\u001b[0m\n\u001b[0m\u001b[1;32m    705\u001b[0m             \u001b[0;32mexcept\u001b[0m \u001b[0mtimeout\u001b[0m\u001b[0;34m:\u001b[0m\u001b[0;34m\u001b[0m\u001b[0;34m\u001b[0m\u001b[0m\n\u001b[1;32m    706\u001b[0m                 \u001b[0mself\u001b[0m\u001b[0;34m.\u001b[0m\u001b[0m_timeout_occurred\u001b[0m \u001b[0;34m=\u001b[0m \u001b[0;32mTrue\u001b[0m\u001b[0;34m\u001b[0m\u001b[0;34m\u001b[0m\u001b[0m\n",
            "\u001b[0;32m/usr/lib/python3.9/ssl.py\u001b[0m in \u001b[0;36mrecv_into\u001b[0;34m(self, buffer, nbytes, flags)\u001b[0m\n\u001b[1;32m   1240\u001b[0m                   \u001b[0;34m\"non-zero flags not allowed in calls to recv_into() on %s\"\u001b[0m \u001b[0;34m%\u001b[0m\u001b[0;34m\u001b[0m\u001b[0;34m\u001b[0m\u001b[0m\n\u001b[1;32m   1241\u001b[0m                   self.__class__)\n\u001b[0;32m-> 1242\u001b[0;31m             \u001b[0;32mreturn\u001b[0m \u001b[0mself\u001b[0m\u001b[0;34m.\u001b[0m\u001b[0mread\u001b[0m\u001b[0;34m(\u001b[0m\u001b[0mnbytes\u001b[0m\u001b[0;34m,\u001b[0m \u001b[0mbuffer\u001b[0m\u001b[0;34m)\u001b[0m\u001b[0;34m\u001b[0m\u001b[0;34m\u001b[0m\u001b[0m\n\u001b[0m\u001b[1;32m   1243\u001b[0m         \u001b[0;32melse\u001b[0m\u001b[0;34m:\u001b[0m\u001b[0;34m\u001b[0m\u001b[0;34m\u001b[0m\u001b[0m\n\u001b[1;32m   1244\u001b[0m             \u001b[0;32mreturn\u001b[0m \u001b[0msuper\u001b[0m\u001b[0;34m(\u001b[0m\u001b[0;34m)\u001b[0m\u001b[0;34m.\u001b[0m\u001b[0mrecv_into\u001b[0m\u001b[0;34m(\u001b[0m\u001b[0mbuffer\u001b[0m\u001b[0;34m,\u001b[0m \u001b[0mnbytes\u001b[0m\u001b[0;34m,\u001b[0m \u001b[0mflags\u001b[0m\u001b[0;34m)\u001b[0m\u001b[0;34m\u001b[0m\u001b[0;34m\u001b[0m\u001b[0m\n",
            "\u001b[0;32m/usr/lib/python3.9/ssl.py\u001b[0m in \u001b[0;36mread\u001b[0;34m(self, len, buffer)\u001b[0m\n\u001b[1;32m   1098\u001b[0m         \u001b[0;32mtry\u001b[0m\u001b[0;34m:\u001b[0m\u001b[0;34m\u001b[0m\u001b[0;34m\u001b[0m\u001b[0m\n\u001b[1;32m   1099\u001b[0m             \u001b[0;32mif\u001b[0m \u001b[0mbuffer\u001b[0m \u001b[0;32mis\u001b[0m \u001b[0;32mnot\u001b[0m \u001b[0;32mNone\u001b[0m\u001b[0;34m:\u001b[0m\u001b[0;34m\u001b[0m\u001b[0;34m\u001b[0m\u001b[0m\n\u001b[0;32m-> 1100\u001b[0;31m                 \u001b[0;32mreturn\u001b[0m \u001b[0mself\u001b[0m\u001b[0;34m.\u001b[0m\u001b[0m_sslobj\u001b[0m\u001b[0;34m.\u001b[0m\u001b[0mread\u001b[0m\u001b[0;34m(\u001b[0m\u001b[0mlen\u001b[0m\u001b[0;34m,\u001b[0m \u001b[0mbuffer\u001b[0m\u001b[0;34m)\u001b[0m\u001b[0;34m\u001b[0m\u001b[0;34m\u001b[0m\u001b[0m\n\u001b[0m\u001b[1;32m   1101\u001b[0m             \u001b[0;32melse\u001b[0m\u001b[0;34m:\u001b[0m\u001b[0;34m\u001b[0m\u001b[0;34m\u001b[0m\u001b[0m\n\u001b[1;32m   1102\u001b[0m                 \u001b[0;32mreturn\u001b[0m \u001b[0mself\u001b[0m\u001b[0;34m.\u001b[0m\u001b[0m_sslobj\u001b[0m\u001b[0;34m.\u001b[0m\u001b[0mread\u001b[0m\u001b[0;34m(\u001b[0m\u001b[0mlen\u001b[0m\u001b[0;34m)\u001b[0m\u001b[0;34m\u001b[0m\u001b[0;34m\u001b[0m\u001b[0m\n",
            "\u001b[0;31mKeyboardInterrupt\u001b[0m: "
          ]
        }
      ],
      "source": [
        "for elo in reversed(leagues + super_leauges):\n",
        "  #read data\n",
        "  db_match = pd.read_csv(path + elo + '/match_{}.csv'.format(elo))\n",
        "  print('original....', len(db_match))\n",
        "  db_match = db_match.drop_duplicates()\n",
        "\n",
        "  l = int(len(db_match)/4) \n",
        "  print(elo, ' ><> ' , len(db_match), ' <>< ', l)\n",
        "  \n",
        "  batch_0 = db_match.iloc[   :l*1,:]\n",
        "  batch_1 = db_match.iloc[l  :l*2,:]\n",
        "  batch_2 = db_match.iloc[l*2:l*3,:]\n",
        "  batch_3 = db_match.iloc[l*3:   ,:]\n",
        "  batch = [batch_0, batch_1, batch_2, batch_3]\n",
        "\n",
        "  for i in range(0,4):\n",
        "    if not os.path.exists(path + elo + form_2 + '/data_{}_batch_{}.parquet'.format(elo, i)):\n",
        "      print(path + elo + form_2 + '/data_{}_batch_{}.parquet'.format(elo, i), '.... not found :c')\n",
        "      print('...')\n",
        "      save_data(batch[i], elo, i)\n",
        "    else:\n",
        "      print('/data_{}_batch_{}'.format(elo, i), '.... complete')\n",
        "\n",
        "\n"
      ]
    }
  ],
  "metadata": {
    "colab": {
      "collapsed_sections": [
        "WpB0ObsS3aId",
        "9wNWB9jdVvqY"
      ],
      "provenance": []
    },
    "kernelspec": {
      "display_name": "Python 3",
      "name": "python3"
    },
    "language_info": {
      "name": "python"
    }
  },
  "nbformat": 4,
  "nbformat_minor": 0
}